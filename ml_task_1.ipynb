{
  "nbformat": 4,
  "nbformat_minor": 0,
  "metadata": {
    "colab": {
      "name": "ml_task_1.ipynb",
      "provenance": [],
      "authorship_tag": "ABX9TyPX9LCLDMA4OAri0Rd36ZXl",
      "include_colab_link": true
    },
    "kernelspec": {
      "name": "python3",
      "display_name": "Python 3"
    },
    "language_info": {
      "name": "python"
    }
  },
  "cells": [
    {
      "cell_type": "markdown",
      "metadata": {
        "id": "view-in-github",
        "colab_type": "text"
      },
      "source": [
        "<a href=\"https://colab.research.google.com/github/kalvin-osoro/ML/blob/main/ml_task_1.ipynb\" target=\"_parent\"><img src=\"https://colab.research.google.com/assets/colab-badge.svg\" alt=\"Open In Colab\"/></a>"
      ]
    },
    {
      "cell_type": "code",
      "execution_count": 98,
      "metadata": {
        "id": "2P1QbwNtf123"
      },
      "outputs": [],
      "source": [
        "from scipy.stats import binom\n",
        "from numpy import random\n",
        "import numpy as np\n",
        "import pandas as pd\n",
        "import matplotlib.pyplot as plt\n",
        "from sklearn.linear_model import LinearRegression\n",
        "from statistics import mean\n"
      ]
    },
    {
      "cell_type": "code",
      "source": [
        "s = 100"
      ],
      "metadata": {
        "id": "DX1OADSlgAo-"
      },
      "execution_count": 99,
      "outputs": []
    },
    {
      "cell_type": "code",
      "source": [
        "def best_fit_line(xs,ys):\n",
        "  m=(((mean(xs)*mean(ys))-mean(xs*ys))/((mean(xs)*mean(xs))-mean(xs*xs)))\n",
        "  c= mean(ys)-m*mean(xs)\n",
        "  return m,c"
      ],
      "metadata": {
        "id": "t8-93rVwiKmh"
      },
      "execution_count": 100,
      "outputs": []
    },
    {
      "cell_type": "code",
      "source": [
        "office_size = random.uniform(10,100,s)\n",
        "# office_price = {'office price':random.uniform(5,1000,s)}\n",
        "fake_dt = {'office size':office_size,'office price':random.uniform(10,100,s)*office_size}\n",
        "# fake_data = {'office size':random.uniform(10,100,s),'Office Price':random.uniform(5,10000,s)}\n",
        "# office_size =random.uniform(10,100,s)\n",
        "pd.DataFrame(fake_dt)\n",
        "# ot = pd.DataFrame(fake_data)\n",
        "# ot\n"
      ],
      "metadata": {
        "id": "T62kbujtgH1l",
        "colab": {
          "base_uri": "https://localhost:8080/",
          "height": 424
        },
        "outputId": "efa6fdb4-b64d-4dad-86fe-8a93b94d35e0"
      },
      "execution_count": 101,
      "outputs": [
        {
          "output_type": "execute_result",
          "data": {
            "text/plain": [
              "    office size  office price\n",
              "0     70.971530   2953.600989\n",
              "1     43.599174   3634.131357\n",
              "2     57.710793   2785.442644\n",
              "3     21.785353   1714.735012\n",
              "4     77.121121   4559.124095\n",
              "..          ...           ...\n",
              "95    99.181256   8471.169755\n",
              "96    60.341761   5342.576877\n",
              "97    29.333130   2444.186418\n",
              "98    99.110001   7225.938257\n",
              "99    51.430395   3338.508547\n",
              "\n",
              "[100 rows x 2 columns]"
            ],
            "text/html": [
              "\n",
              "  <div id=\"df-e341678f-30b2-4db3-92e7-5264f2256c9e\">\n",
              "    <div class=\"colab-df-container\">\n",
              "      <div>\n",
              "<style scoped>\n",
              "    .dataframe tbody tr th:only-of-type {\n",
              "        vertical-align: middle;\n",
              "    }\n",
              "\n",
              "    .dataframe tbody tr th {\n",
              "        vertical-align: top;\n",
              "    }\n",
              "\n",
              "    .dataframe thead th {\n",
              "        text-align: right;\n",
              "    }\n",
              "</style>\n",
              "<table border=\"1\" class=\"dataframe\">\n",
              "  <thead>\n",
              "    <tr style=\"text-align: right;\">\n",
              "      <th></th>\n",
              "      <th>office size</th>\n",
              "      <th>office price</th>\n",
              "    </tr>\n",
              "  </thead>\n",
              "  <tbody>\n",
              "    <tr>\n",
              "      <th>0</th>\n",
              "      <td>70.971530</td>\n",
              "      <td>2953.600989</td>\n",
              "    </tr>\n",
              "    <tr>\n",
              "      <th>1</th>\n",
              "      <td>43.599174</td>\n",
              "      <td>3634.131357</td>\n",
              "    </tr>\n",
              "    <tr>\n",
              "      <th>2</th>\n",
              "      <td>57.710793</td>\n",
              "      <td>2785.442644</td>\n",
              "    </tr>\n",
              "    <tr>\n",
              "      <th>3</th>\n",
              "      <td>21.785353</td>\n",
              "      <td>1714.735012</td>\n",
              "    </tr>\n",
              "    <tr>\n",
              "      <th>4</th>\n",
              "      <td>77.121121</td>\n",
              "      <td>4559.124095</td>\n",
              "    </tr>\n",
              "    <tr>\n",
              "      <th>...</th>\n",
              "      <td>...</td>\n",
              "      <td>...</td>\n",
              "    </tr>\n",
              "    <tr>\n",
              "      <th>95</th>\n",
              "      <td>99.181256</td>\n",
              "      <td>8471.169755</td>\n",
              "    </tr>\n",
              "    <tr>\n",
              "      <th>96</th>\n",
              "      <td>60.341761</td>\n",
              "      <td>5342.576877</td>\n",
              "    </tr>\n",
              "    <tr>\n",
              "      <th>97</th>\n",
              "      <td>29.333130</td>\n",
              "      <td>2444.186418</td>\n",
              "    </tr>\n",
              "    <tr>\n",
              "      <th>98</th>\n",
              "      <td>99.110001</td>\n",
              "      <td>7225.938257</td>\n",
              "    </tr>\n",
              "    <tr>\n",
              "      <th>99</th>\n",
              "      <td>51.430395</td>\n",
              "      <td>3338.508547</td>\n",
              "    </tr>\n",
              "  </tbody>\n",
              "</table>\n",
              "<p>100 rows × 2 columns</p>\n",
              "</div>\n",
              "      <button class=\"colab-df-convert\" onclick=\"convertToInteractive('df-e341678f-30b2-4db3-92e7-5264f2256c9e')\"\n",
              "              title=\"Convert this dataframe to an interactive table.\"\n",
              "              style=\"display:none;\">\n",
              "        \n",
              "  <svg xmlns=\"http://www.w3.org/2000/svg\" height=\"24px\"viewBox=\"0 0 24 24\"\n",
              "       width=\"24px\">\n",
              "    <path d=\"M0 0h24v24H0V0z\" fill=\"none\"/>\n",
              "    <path d=\"M18.56 5.44l.94 2.06.94-2.06 2.06-.94-2.06-.94-.94-2.06-.94 2.06-2.06.94zm-11 1L8.5 8.5l.94-2.06 2.06-.94-2.06-.94L8.5 2.5l-.94 2.06-2.06.94zm10 10l.94 2.06.94-2.06 2.06-.94-2.06-.94-.94-2.06-.94 2.06-2.06.94z\"/><path d=\"M17.41 7.96l-1.37-1.37c-.4-.4-.92-.59-1.43-.59-.52 0-1.04.2-1.43.59L10.3 9.45l-7.72 7.72c-.78.78-.78 2.05 0 2.83L4 21.41c.39.39.9.59 1.41.59.51 0 1.02-.2 1.41-.59l7.78-7.78 2.81-2.81c.8-.78.8-2.07 0-2.86zM5.41 20L4 18.59l7.72-7.72 1.47 1.35L5.41 20z\"/>\n",
              "  </svg>\n",
              "      </button>\n",
              "      \n",
              "  <style>\n",
              "    .colab-df-container {\n",
              "      display:flex;\n",
              "      flex-wrap:wrap;\n",
              "      gap: 12px;\n",
              "    }\n",
              "\n",
              "    .colab-df-convert {\n",
              "      background-color: #E8F0FE;\n",
              "      border: none;\n",
              "      border-radius: 50%;\n",
              "      cursor: pointer;\n",
              "      display: none;\n",
              "      fill: #1967D2;\n",
              "      height: 32px;\n",
              "      padding: 0 0 0 0;\n",
              "      width: 32px;\n",
              "    }\n",
              "\n",
              "    .colab-df-convert:hover {\n",
              "      background-color: #E2EBFA;\n",
              "      box-shadow: 0px 1px 2px rgba(60, 64, 67, 0.3), 0px 1px 3px 1px rgba(60, 64, 67, 0.15);\n",
              "      fill: #174EA6;\n",
              "    }\n",
              "\n",
              "    [theme=dark] .colab-df-convert {\n",
              "      background-color: #3B4455;\n",
              "      fill: #D2E3FC;\n",
              "    }\n",
              "\n",
              "    [theme=dark] .colab-df-convert:hover {\n",
              "      background-color: #434B5C;\n",
              "      box-shadow: 0px 1px 3px 1px rgba(0, 0, 0, 0.15);\n",
              "      filter: drop-shadow(0px 1px 2px rgba(0, 0, 0, 0.3));\n",
              "      fill: #FFFFFF;\n",
              "    }\n",
              "  </style>\n",
              "\n",
              "      <script>\n",
              "        const buttonEl =\n",
              "          document.querySelector('#df-e341678f-30b2-4db3-92e7-5264f2256c9e button.colab-df-convert');\n",
              "        buttonEl.style.display =\n",
              "          google.colab.kernel.accessAllowed ? 'block' : 'none';\n",
              "\n",
              "        async function convertToInteractive(key) {\n",
              "          const element = document.querySelector('#df-e341678f-30b2-4db3-92e7-5264f2256c9e');\n",
              "          const dataTable =\n",
              "            await google.colab.kernel.invokeFunction('convertToInteractive',\n",
              "                                                     [key], {});\n",
              "          if (!dataTable) return;\n",
              "\n",
              "          const docLinkHtml = 'Like what you see? Visit the ' +\n",
              "            '<a target=\"_blank\" href=https://colab.research.google.com/notebooks/data_table.ipynb>data table notebook</a>'\n",
              "            + ' to learn more about interactive tables.';\n",
              "          element.innerHTML = '';\n",
              "          dataTable['output_type'] = 'display_data';\n",
              "          await google.colab.output.renderOutput(dataTable, element);\n",
              "          const docLink = document.createElement('div');\n",
              "          docLink.innerHTML = docLinkHtml;\n",
              "          element.appendChild(docLink);\n",
              "        }\n",
              "      </script>\n",
              "    </div>\n",
              "  </div>\n",
              "  "
            ]
          },
          "metadata": {},
          "execution_count": 101
        }
      ]
    },
    {
      "cell_type": "code",
      "source": [
        "\n",
        "# size = ['fake_data']\n",
        "# price\n",
        "size_list = fake_dt['office size'].tolist()\n",
        "price_list = fake_dt['office price'].tolist()\n",
        "\n",
        "xs = np.array(size_list, dtype=np.float64)\n",
        "ys = np.array(price_list, dtype=np.float64)\n",
        "\n",
        "# calculate slope and y-intercept of the lists\n",
        "m,c= best_fit_line(xs,ys)\n",
        "\n",
        "# get the regression line from the calculated slope and y-itercept\n",
        "regression_line = [(m*x)+c for x in xs]\n",
        "\n",
        "# Making prediction\n",
        "act_office_size = 100\n",
        "predicted_office_price = (m*act_office_size)+c\n",
        "\n",
        "result = predicted_office_price\n",
        "print('predicted price:',result)\n",
        "\n",
        "\n",
        "plt.scatter(xs, ys, label='Data points', alpha= 0.6, color='blue', s=20)\n",
        "plt.scatter(act_office_size,predicted_office_price, label= \"office price predictio\",color='black',s=30)\n",
        "plt.plot(xs,regression_line, label='Best fit line',color= 'red', linewidth=2)\n",
        "plt.title('office price prediction')\n",
        "plt.xlabel('size (sq.ft)')\n",
        "plt.ylabel('price (ksh)')\n",
        "plt.legend()\n",
        "plt.show()"
      ],
      "metadata": {
        "colab": {
          "base_uri": "https://localhost:8080/",
          "height": 312
        },
        "id": "ffhIDov5UMaY",
        "outputId": "ea579899-43d7-41b2-8e7d-e21924068bdd"
      },
      "execution_count": 121,
      "outputs": [
        {
          "output_type": "stream",
          "name": "stdout",
          "text": [
            "predicted price: 5098.9263746166735\n"
          ]
        },
        {
          "output_type": "display_data",
          "data": {
            "text/plain": [
              "<Figure size 432x288 with 1 Axes>"
            ],
            "image/png": "[encoded data removed]"
          },
          "metadata": {
            "needs_background": "light"
          }
        }
      ]
    },
    {
      "cell_type": "code",
      "source": [
        ""
      ],
      "metadata": {
        "id": "GhCzsWUdTpUx"
      },
      "execution_count": 105,
      "outputs": []
    }
  ]
}